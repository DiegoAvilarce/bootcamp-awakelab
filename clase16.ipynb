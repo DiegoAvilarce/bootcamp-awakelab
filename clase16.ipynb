{
 "cells": [
  {
   "cell_type": "markdown",
   "metadata": {},
   "source": [
    "## Probability concepts and random events."
   ]
  },
  {
   "cell_type": "code",
   "execution_count": null,
   "metadata": {},
   "outputs": [],
   "source": [
    "import random\n",
    "\n",
    "import pandas as pd"
   ]
  },
  {
   "cell_type": "markdown",
   "metadata": {},
   "source": [
    "#### Probabilities"
   ]
  },
  {
   "cell_type": "code",
   "execution_count": null,
   "metadata": {},
   "outputs": [],
   "source": [
    "# Simulate rolling a dice\n",
    "def roll_dice():\n",
    "    return random.randint(1, 6)\n",
    "\n",
    "def roll_tricky_dice():\n",
    "    \n",
    "    output = [1, 2, 3, 4, 5, 6, 2, 2, 2]\n",
    "\n",
    "    return random.choice(output)"
   ]
  },
  {
   "cell_type": "code",
   "execution_count": null,
   "metadata": {},
   "outputs": [
    {
     "data": {
      "text/plain": [
       "(0.375, 0.16666666666666666, 0.125)"
      ]
     },
     "metadata": {},
     "output_type": "display_data"
    }
   ],
   "source": [
    "p_2 = 3/8\n",
    "p_2, 1/6, 1/8"
   ]
  },
  {
   "cell_type": "code",
   "execution_count": null,
   "metadata": {},
   "outputs": [
    {
     "name": "stdout",
     "output_type": "stream",
     "text": [
      "The probability of getting 5 is approximately 0.1667\n"
     ]
    }
   ],
   "source": [
    "# Number we want to get\n",
    "number_to_get = 5\n",
    "\n",
    "# Roll the dice and count the number of times we get\n",
    "# the desired number\n",
    "num_trials = 1_000_000\n",
    "num_successes = 0\n",
    "\n",
    "for i in range(num_trials):\n",
    "\n",
    "    if roll_dice() == number_to_get:\n",
    "\n",
    "        num_successes += 1\n",
    "\n",
    "# Calculate the probability\n",
    "probability = num_successes / num_trials\n",
    "\n",
    "print(\n",
    "    f\"The probability of getting {number_to_get} is \"\n",
    "    f\"approximately {probability:.4f}\"\n",
    ")"
   ]
  },
  {
   "cell_type": "code",
   "execution_count": null,
   "metadata": {},
   "outputs": [
    {
     "name": "stdout",
     "output_type": "stream",
     "text": [
      "The probability of getting 2 is approximately 0.4450\n"
     ]
    }
   ],
   "source": [
    "# Number we want to get\n",
    "number_to_get = 2\n",
    "\n",
    "# Roll the dice and count the number of times we get\n",
    "# the desired number\n",
    "num_trials = 1_000_000\n",
    "num_successes = 0\n",
    "\n",
    "for i in range(num_trials):\n",
    "\n",
    "    if roll_tricky_dice() == number_to_get:\n",
    "\n",
    "        num_successes += 1\n",
    "\n",
    "# Calculate the probability\n",
    "probability = num_successes / num_trials\n",
    "\n",
    "print(\n",
    "    f\"The probability of getting {number_to_get} is \"\n",
    "    f\"approximately {probability:.4f}\"\n",
    ")"
   ]
  },
  {
   "cell_type": "code",
   "execution_count": null,
   "metadata": {},
   "outputs": [
    {
     "data": {
      "text/plain": [
       "(0.16666666666666666, 0.75)"
      ]
     },
     "metadata": {},
     "output_type": "display_data"
    }
   ],
   "source": [
    "1/6, 3/4"
   ]
  },
  {
   "cell_type": "code",
   "execution_count": null,
   "metadata": {},
   "outputs": [
    {
     "data": {
      "text/plain": [
       "0.5"
      ]
     },
     "metadata": {},
     "output_type": "display_data"
    }
   ],
   "source": [
    "# [1, 3, 5] --> 3\n",
    "# [1, 2, 3, 4, 5, 6] --> 6\n",
    "3/6"
   ]
  },
  {
   "cell_type": "code",
   "execution_count": null,
   "metadata": {},
   "outputs": [
    {
     "name": "stdout",
     "output_type": "stream",
     "text": [
      "The probability of obtaining an odd number is approximately 0.50\n"
     ]
    }
   ],
   "source": [
    "num_trials = 1_000_000\n",
    "num_odds = 0\n",
    "\n",
    "for i in range(num_trials):\n",
    "\n",
    "    roll = random.randint(1, 6)\n",
    "\n",
    "    if roll % 2 == 1:\n",
    "\n",
    "        num_odds += 1\n",
    "\n",
    "probability = num_odds / num_trials\n",
    "\n",
    "print(\n",
    "    f\"The probability of obtaining an odd number is\"\n",
    "    f\" approximately {probability:.2f}\"\n",
    ")"
   ]
  },
  {
   "cell_type": "code",
   "execution_count": null,
   "metadata": {},
   "outputs": [
    {
     "name": "stdout",
     "output_type": "stream",
     "text": [
      "The probability of getting heads is 0.52\n"
     ]
    }
   ],
   "source": [
    "# Define outcomes\n",
    "outcomes = ['heads', 'tails']\n",
    "\n",
    "num_trials = 10_000\n",
    "num_heads = 0\n",
    "\n",
    "# Simulate flipping a coin\n",
    "for i in range(num_trials):\n",
    "\n",
    "    result = random.choice(outcomes)\n",
    "\n",
    "    if result == 'heads':\n",
    "    \n",
    "        num_heads += 1\n",
    "\n",
    "prob_heads = num_heads / num_trials\n",
    "\n",
    "print(f\"The probability of getting heads is {prob_heads:.2f}\")"
   ]
  },
  {
   "cell_type": "code",
   "execution_count": null,
   "metadata": {},
   "outputs": [
    {
     "name": "stdout",
     "output_type": "stream",
     "text": [
      "The probability of getting at least one head in two tosses is: 0.7498\n"
     ]
    }
   ],
   "source": [
    "n_simulations = 1_000_000\n",
    "count = 0 \n",
    "\n",
    "for i in range(n_simulations):\n",
    "\n",
    "    toss1 = random.choice([\"heads\", \"tails\"])\n",
    "    toss2 = random.choice([\"heads\", \"tails\"])\n",
    "    \n",
    "    if toss1 == \"heads\" or toss2 == \"heads\":\n",
    "    \n",
    "        count += 1\n",
    "\n",
    "probability = count / n_simulations\n",
    "\n",
    "print(\n",
    "    f\"The probability of getting at least one head\"\n",
    "    f\" in two tosses is: {probability:.4f}\"\n",
    ")"
   ]
  },
  {
   "cell_type": "markdown",
   "metadata": {},
   "source": [
    "### Union and Intersection\n",
    "* Marginal probability\n",
    "* Join probability\n",
    "* Conditional probability"
   ]
  },
  {
   "cell_type": "code",
   "execution_count": null,
   "metadata": {},
   "outputs": [
    {
     "data": {
      "text/html": [
       "<div>\n",
       "<style scoped>\n",
       "    .dataframe tbody tr th:only-of-type {\n",
       "        vertical-align: middle;\n",
       "    }\n",
       "\n",
       "    .dataframe tbody tr th {\n",
       "        vertical-align: top;\n",
       "    }\n",
       "\n",
       "    .dataframe thead th {\n",
       "        text-align: right;\n",
       "    }\n",
       "</style>\n",
       "<table border=\"1\" class=\"dataframe\">\n",
       "  <thead>\n",
       "    <tr style=\"text-align: right;\">\n",
       "      <th></th>\n",
       "      <th>cloud</th>\n",
       "      <th>noCloud</th>\n",
       "    </tr>\n",
       "  </thead>\n",
       "  <tbody>\n",
       "    <tr>\n",
       "      <th>rain</th>\n",
       "      <td>7</td>\n",
       "      <td>3</td>\n",
       "    </tr>\n",
       "    <tr>\n",
       "      <th>noRain</th>\n",
       "      <td>2</td>\n",
       "      <td>6</td>\n",
       "    </tr>\n",
       "  </tbody>\n",
       "</table>\n",
       "</div>"
      ],
      "text/plain": [
       "        cloud  noCloud\n",
       "rain        7        3\n",
       "noRain      2        6"
      ]
     },
     "metadata": {},
     "output_type": "display_data"
    }
   ],
   "source": [
    "data = {\n",
    "    'cloud': [7, 2],\n",
    "    'noCloud': [3, 6],\n",
    "}\n",
    "\n",
    "index = ['rain', 'noRain']\n",
    "\n",
    "df = pd.DataFrame(data, index=index)\n",
    "df"
   ]
  },
  {
   "cell_type": "code",
   "execution_count": null,
   "metadata": {},
   "outputs": [
    {
     "name": "stdout",
     "output_type": "stream",
     "text": [
      "\n",
      "rain      10\n",
      "noRain     8\n",
      "dtype: int64\n",
      "\n",
      "\n",
      "cloud      9\n",
      "noCloud    9\n",
      "dtype: int64\n",
      "\n",
      "Number of events: 18\n"
     ]
    }
   ],
   "source": [
    "cloudy_yes_no = df.sum(axis=1)\n",
    "print(f\"\\n{cloudy_yes_no}\\n\")\n",
    "\n",
    "rainy_yes_no = df.sum(axis=0)\n",
    "print(f\"\\n{rainy_yes_no}\\n\")\n",
    "\n",
    "n_events = df.sum(axis=0).sum()\n",
    "print(f\"Number of events: {n_events}\")"
   ]
  },
  {
   "cell_type": "code",
   "execution_count": null,
   "metadata": {},
   "outputs": [
    {
     "name": "stdout",
     "output_type": "stream",
     "text": [
      "Probability of rain: 0.56\n",
      "Probability of no rain: 0.44\n",
      "Probability of cloud: 0.50\n",
      "Probability of no cloud: 0.50\n"
     ]
    }
   ],
   "source": [
    "# marginal probability\n",
    "# rain\n",
    "p_rain = df.loc['rain'].sum() / n_events\n",
    "print(f\"Probability of rain: {p_rain:.2f}\")\n",
    "\n",
    "# no rain\n",
    "p_no_rain = df.loc['noRain'].sum() / n_events\n",
    "print(f\"Probability of no rain: {p_no_rain:.2f}\")\n",
    "\n",
    "# cloud\n",
    "p_cloud = df['cloud'].sum() / n_events\n",
    "print(f\"Probability of cloud: {p_cloud:.2f}\")\n",
    "\n",
    "# cloud\n",
    "p_no_cloud = df['noCloud'].sum() / n_events\n",
    "print(f\"Probability of no cloud: {p_no_cloud:.2f}\")"
   ]
  },
  {
   "cell_type": "code",
   "execution_count": null,
   "metadata": {},
   "outputs": [
    {
     "name": "stdout",
     "output_type": "stream",
     "text": [
      "Probability of rain and cloud: 0.39\n"
     ]
    }
   ],
   "source": [
    "# Joint probability\n",
    "p_rain_cloud = df.loc['rain', 'cloud'] / n_events\n",
    "print(f\"Probability of rain and cloud: {p_rain_cloud:.2f}\")\n"
   ]
  },
  {
   "cell_type": "markdown",
   "metadata": {},
   "source": [
    "### Bayes theorem\n",
    "$P(A|B) = \\frac{P(B|A) \\cdot P(A)}{P(B)} = \\frac{P(A \\cap B)}{P(B)}$\n"
   ]
  },
  {
   "cell_type": "code",
   "execution_count": null,
   "metadata": {},
   "outputs": [
    {
     "data": {
      "text/html": [
       "<div>\n",
       "<style scoped>\n",
       "    .dataframe tbody tr th:only-of-type {\n",
       "        vertical-align: middle;\n",
       "    }\n",
       "\n",
       "    .dataframe tbody tr th {\n",
       "        vertical-align: top;\n",
       "    }\n",
       "\n",
       "    .dataframe thead th {\n",
       "        text-align: right;\n",
       "    }\n",
       "</style>\n",
       "<table border=\"1\" class=\"dataframe\">\n",
       "  <thead>\n",
       "    <tr style=\"text-align: right;\">\n",
       "      <th></th>\n",
       "      <th>cloud</th>\n",
       "      <th>noCloud</th>\n",
       "    </tr>\n",
       "  </thead>\n",
       "  <tbody>\n",
       "    <tr>\n",
       "      <th>rain</th>\n",
       "      <td>7</td>\n",
       "      <td>3</td>\n",
       "    </tr>\n",
       "    <tr>\n",
       "      <th>noRain</th>\n",
       "      <td>2</td>\n",
       "      <td>6</td>\n",
       "    </tr>\n",
       "  </tbody>\n",
       "</table>\n",
       "</div>"
      ],
      "text/plain": [
       "        cloud  noCloud\n",
       "rain        7        3\n",
       "noRain      2        6"
      ]
     },
     "metadata": {},
     "output_type": "display_data"
    }
   ],
   "source": [
    "df"
   ]
  },
  {
   "cell_type": "code",
   "execution_count": null,
   "metadata": {},
   "outputs": [
    {
     "data": {
      "text/plain": [
       "0.6666666666666666"
      ]
     },
     "metadata": {},
     "output_type": "display_data"
    }
   ],
   "source": [
    "6/9"
   ]
  },
  {
   "cell_type": "code",
   "execution_count": null,
   "metadata": {},
   "outputs": [
    {
     "name": "stdout",
     "output_type": "stream",
     "text": [
      "Probability of no rain given no cloud: 0.67\n"
     ]
    }
   ],
   "source": [
    "# Conditional probability of no rain given no cloud\n",
    "\n",
    "p_noRain_noCloud = df.loc['noRain', 'noCloud'] / df['noCloud'].sum()\n",
    "print(\n",
    "    f\"Probability of no rain given no cloud: {p_noRain_noCloud:.2f}\"\n",
    ")"
   ]
  },
  {
   "cell_type": "code",
   "execution_count": null,
   "metadata": {},
   "outputs": [
    {
     "data": {
      "text/plain": [
       "0.25"
      ]
     },
     "metadata": {},
     "output_type": "display_data"
    }
   ],
   "source": [
    "2/8"
   ]
  },
  {
   "cell_type": "code",
   "execution_count": null,
   "metadata": {},
   "outputs": [
    {
     "name": "stdout",
     "output_type": "stream",
     "text": [
      "Probability of cloud given no rain: 0.25\n"
     ]
    }
   ],
   "source": [
    "p_cloud_noRain = df.loc['noRain', 'cloud'] / df.loc['noRain'].sum()\n",
    "\n",
    "print(\n",
    "    f\"Probability of cloud given no rain: {p_cloud_noRain:.2f}\"\n",
    ")"
   ]
  }
 ],
 "metadata": {
  "kernelspec": {
   "display_name": "Python 3",
   "language": "python",
   "name": "python3"
  },
  "language_info": {
   "codemirror_mode": {
    "name": "ipython",
    "version": 3
   },
   "file_extension": ".py",
   "mimetype": "text/x-python",
   "name": "python",
   "nbconvert_exporter": "python",
   "pygments_lexer": "ipython3",
   "version": "3.11.3"
  },
  "orig_nbformat": 4
 },
 "nbformat": 4,
 "nbformat_minor": 2
}
