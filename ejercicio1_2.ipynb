{
 "cells": [
  {
   "attachments": {},
   "cell_type": "markdown",
   "metadata": {},
   "source": [
    "Ejercicio 1"
   ]
  },
  {
   "cell_type": "code",
   "execution_count": 45,
   "metadata": {},
   "outputs": [
    {
     "name": "stdout",
     "output_type": "stream",
     "text": [
      "3\n",
      "[[5 0 3]\n",
      " [3 7 9]\n",
      " [3 5 2]]\n",
      "[[4 7 6]\n",
      " [8 8 1]\n",
      " [6 7 7]]\n",
      "\n",
      "La suma de las matrices es: \n",
      "[[ 9  7  9]\n",
      " [11 15 10]\n",
      " [ 9 12  9]]\n"
     ]
    }
   ],
   "source": [
    "import numpy as np\n",
    "import random\n",
    "\n",
    "np.random.seed(0)\n",
    "\n",
    "# Crear dos matrices de iguales dimensiones aleatorias\n",
    "dimension_aleatoria = random.randint(1, 5)\n",
    "matriz1 = np.random.randint(0, 10, (dimension_aleatoria, dimension_aleatoria))\n",
    "matriz2 = np.random.randint(0, 10, (dimension_aleatoria, dimension_aleatoria))\n",
    "\n",
    "print(dimension_aleatoria)\n",
    "print(matriz1)\n",
    "print(matriz2)\n",
    "print(f\"\\nLa suma de las matrices es: \\n{matriz1 + matriz2}\")\n"
   ]
  },
  {
   "attachments": {},
   "cell_type": "markdown",
   "metadata": {},
   "source": [
    "Ejercicio 2"
   ]
  },
  {
   "cell_type": "code",
   "execution_count": null,
   "metadata": {},
   "outputs": [],
   "source": [
    "matriz_identidad_4 = np.identity(4)\n",
    "print(matriz_identidad_4)"
   ]
  },
  {
   "attachments": {},
   "cell_type": "markdown",
   "metadata": {},
   "source": [
    "Ejercicio 3"
   ]
  },
  {
   "cell_type": "code",
   "execution_count": 48,
   "metadata": {},
   "outputs": [
    {
     "name": "stdout",
     "output_type": "stream",
     "text": [
      "[[1 1]\n",
      " [1 0]]\n",
      "[[ True  True]\n",
      " [ True False]]\n"
     ]
    }
   ],
   "source": [
    "dimension_aleatoria = random.randint(1, 5)\n",
    "matriz3 = np.random.randint(0, 2, (dimension_aleatoria, dimension_aleatoria))\n",
    "matriz_booleana = matriz3 == 1 \n",
    "print(matriz3)\n",
    "print(matriz_booleana)"
   ]
  },
  {
   "attachments": {},
   "cell_type": "markdown",
   "metadata": {},
   "source": [
    "Ejercicio 4"
   ]
  },
  {
   "cell_type": "code",
   "execution_count": 43,
   "metadata": {},
   "outputs": [
    {
     "name": "stdout",
     "output_type": "stream",
     "text": [
      "[  0   2   4   6   8  10  12  14  16  18  20  22  24  26  28  30  32  34\n",
      "  36  38  40  42  44  46  48  50  52  54  56  58  60  62  64  66  68  70\n",
      "  72  74  76  78  80  82  84  86  88  90  92  94  96  98 100]\n"
     ]
    }
   ],
   "source": [
    "secuencia_2 = np.arange(0, 101, 2)\n",
    "print(secuencia_2)"
   ]
  }
 ],
 "metadata": {
  "kernelspec": {
   "display_name": "Python 3",
   "language": "python",
   "name": "python3"
  },
  "language_info": {
   "codemirror_mode": {
    "name": "ipython",
    "version": 3
   },
   "file_extension": ".py",
   "mimetype": "text/x-python",
   "name": "python",
   "nbconvert_exporter": "python",
   "pygments_lexer": "ipython3",
   "version": "3.11.3"
  },
  "orig_nbformat": 4
 },
 "nbformat": 4,
 "nbformat_minor": 2
}
