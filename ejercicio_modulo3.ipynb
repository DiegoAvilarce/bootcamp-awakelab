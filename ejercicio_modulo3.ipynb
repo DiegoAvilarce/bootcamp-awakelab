{
 "cells": [
  {
   "cell_type": "code",
   "execution_count": 1,
   "metadata": {},
   "outputs": [],
   "source": [
    "import pandas as pd\n",
    "import matplotlib.pyplot as plt"
   ]
  },
  {
   "attachments": {},
   "cell_type": "markdown",
   "metadata": {},
   "source": [
    "# 1."
   ]
  },
  {
   "cell_type": "code",
   "execution_count": 2,
   "metadata": {},
   "outputs": [
    {
     "data": {
      "text/html": [
       "<div>\n",
       "<style scoped>\n",
       "    .dataframe tbody tr th:only-of-type {\n",
       "        vertical-align: middle;\n",
       "    }\n",
       "\n",
       "    .dataframe tbody tr th {\n",
       "        vertical-align: top;\n",
       "    }\n",
       "\n",
       "    .dataframe thead th {\n",
       "        text-align: right;\n",
       "    }\n",
       "</style>\n",
       "<table border=\"1\" class=\"dataframe\">\n",
       "  <thead>\n",
       "    <tr style=\"text-align: right;\">\n",
       "      <th></th>\n",
       "      <th>calorias</th>\n",
       "      <th>tiempo</th>\n",
       "    </tr>\n",
       "  </thead>\n",
       "  <tbody>\n",
       "    <tr>\n",
       "      <th>L</th>\n",
       "      <td>420</td>\n",
       "      <td>60</td>\n",
       "    </tr>\n",
       "    <tr>\n",
       "      <th>M</th>\n",
       "      <td>380</td>\n",
       "      <td>40</td>\n",
       "    </tr>\n",
       "    <tr>\n",
       "      <th>X</th>\n",
       "      <td>390</td>\n",
       "      <td>75</td>\n",
       "    </tr>\n",
       "    <tr>\n",
       "      <th>J</th>\n",
       "      <td>490</td>\n",
       "      <td>55</td>\n",
       "    </tr>\n",
       "    <tr>\n",
       "      <th>V</th>\n",
       "      <td>300</td>\n",
       "      <td>45</td>\n",
       "    </tr>\n",
       "  </tbody>\n",
       "</table>\n",
       "</div>"
      ],
      "text/plain": [
       "   calorias  tiempo\n",
       "L       420      60\n",
       "M       380      40\n",
       "X       390      75\n",
       "J       490      55\n",
       "V       300      45"
      ]
     },
     "execution_count": 2,
     "metadata": {},
     "output_type": "execute_result"
    }
   ],
   "source": [
    "# Crear el dataframe con los datos del enunciado\n",
    "df = pd.DataFrame({'calorias':[420,380,390,490,300],'tiempo':[60,40,75,55,45]},index=['L','M','X','J','V'])\n",
    "df"
   ]
  },
  {
   "attachments": {},
   "cell_type": "markdown",
   "metadata": {},
   "source": [
    "# 2."
   ]
  },
  {
   "cell_type": "code",
   "execution_count": 3,
   "metadata": {},
   "outputs": [
    {
     "name": "stdout",
     "output_type": "stream",
     "text": [
      "Media de las calorias: 396.0\n",
      "Mediana de las calorias: 390.0\n",
      "Desviación típica de las calorias: 68.7749954561976\n",
      "Media del tiempo: 55.0\n",
      "Mediana del tiempo: 55.0\n",
      "Desviación típica del tiempo: 13.693063937629153\n"
     ]
    }
   ],
   "source": [
    "# Calcular media,mediana desviación típica\n",
    "media_calorias = df['calorias'].mean()\n",
    "mediana_calorias = df['calorias'].median()\n",
    "desviacion_calorias = df['calorias'].std()\n",
    "print(f\"Media de las calorias: {media_calorias}\")\n",
    "print(f\"Mediana de las calorias: {mediana_calorias}\")\n",
    "print(f\"Desviación típica de las calorias: {desviacion_calorias}\")\n",
    "\n",
    "media_tiempo = df['tiempo'].mean()\n",
    "mediana_tiempo = df['tiempo'].median()\n",
    "desviacion_tiempo = df['tiempo'].std()\n",
    "print(f\"Media del tiempo: {media_tiempo}\")\n",
    "print(f\"Mediana del tiempo: {mediana_tiempo}\")\n",
    "print(f\"Desviación típica del tiempo: {desviacion_tiempo}\")\n"
   ]
  },
  {
   "attachments": {},
   "cell_type": "markdown",
   "metadata": {},
   "source": [
    "# 3."
   ]
  },
  {
   "cell_type": "code",
   "execution_count": 4,
   "metadata": {},
   "outputs": [
    {
     "data": {
      "text/html": [
       "<div>\n",
       "<style scoped>\n",
       "    .dataframe tbody tr th:only-of-type {\n",
       "        vertical-align: middle;\n",
       "    }\n",
       "\n",
       "    .dataframe tbody tr th {\n",
       "        vertical-align: top;\n",
       "    }\n",
       "\n",
       "    .dataframe thead th {\n",
       "        text-align: right;\n",
       "    }\n",
       "</style>\n",
       "<table border=\"1\" class=\"dataframe\">\n",
       "  <thead>\n",
       "    <tr style=\"text-align: right;\">\n",
       "      <th></th>\n",
       "      <th>calorias</th>\n",
       "      <th>tiempo</th>\n",
       "      <th>reto</th>\n",
       "    </tr>\n",
       "  </thead>\n",
       "  <tbody>\n",
       "    <tr>\n",
       "      <th>L</th>\n",
       "      <td>420</td>\n",
       "      <td>60</td>\n",
       "      <td>True</td>\n",
       "    </tr>\n",
       "    <tr>\n",
       "      <th>M</th>\n",
       "      <td>380</td>\n",
       "      <td>40</td>\n",
       "      <td>True</td>\n",
       "    </tr>\n",
       "    <tr>\n",
       "      <th>X</th>\n",
       "      <td>390</td>\n",
       "      <td>75</td>\n",
       "      <td>False</td>\n",
       "    </tr>\n",
       "    <tr>\n",
       "      <th>J</th>\n",
       "      <td>490</td>\n",
       "      <td>55</td>\n",
       "      <td>True</td>\n",
       "    </tr>\n",
       "    <tr>\n",
       "      <th>V</th>\n",
       "      <td>300</td>\n",
       "      <td>45</td>\n",
       "      <td>False</td>\n",
       "    </tr>\n",
       "  </tbody>\n",
       "</table>\n",
       "</div>"
      ],
      "text/plain": [
       "   calorias  tiempo   reto\n",
       "L       420      60   True\n",
       "M       380      40   True\n",
       "X       390      75  False\n",
       "J       490      55   True\n",
       "V       300      45  False"
      ]
     },
     "execution_count": 4,
     "metadata": {},
     "output_type": "execute_result"
    }
   ],
   "source": [
    "# Crear una columna donde las calorias quemadas por hora sean mayores a 400\n",
    "df['reto'] = df['calorias'] * 60 / df['tiempo'] > 400\n",
    "df"
   ]
  },
  {
   "attachments": {},
   "cell_type": "markdown",
   "metadata": {},
   "source": [
    "# 4."
   ]
  },
  {
   "cell_type": "code",
   "execution_count": 5,
   "metadata": {},
   "outputs": [
    {
     "data": {
      "text/html": [
       "<div>\n",
       "<style scoped>\n",
       "    .dataframe tbody tr th:only-of-type {\n",
       "        vertical-align: middle;\n",
       "    }\n",
       "\n",
       "    .dataframe tbody tr th {\n",
       "        vertical-align: top;\n",
       "    }\n",
       "\n",
       "    .dataframe thead th {\n",
       "        text-align: right;\n",
       "    }\n",
       "</style>\n",
       "<table border=\"1\" class=\"dataframe\">\n",
       "  <thead>\n",
       "    <tr style=\"text-align: right;\">\n",
       "      <th></th>\n",
       "      <th>calorias</th>\n",
       "      <th>tiempo</th>\n",
       "      <th>reto</th>\n",
       "    </tr>\n",
       "  </thead>\n",
       "  <tbody>\n",
       "    <tr>\n",
       "      <th>L</th>\n",
       "      <td>420</td>\n",
       "      <td>60</td>\n",
       "      <td>True</td>\n",
       "    </tr>\n",
       "  </tbody>\n",
       "</table>\n",
       "</div>"
      ],
      "text/plain": [
       "   calorias  tiempo  reto\n",
       "L       420      60  True"
      ]
     },
     "execution_count": 5,
     "metadata": {},
     "output_type": "execute_result"
    }
   ],
   "source": [
    "# Filtrar el DataFrame y devolver otro DataFrame con las filas pares que cumplan que el número de calorías es mayor de 400.\n",
    "df_2 = df.iloc[::2] # iloc[::2] para seleccionar las filas pares\n",
    "df_2 = df_2[df_2['reto'] == True] # filas que cumplen el reto\n",
    "df_2\n",
    "\n",
    "# La única fila par que cumple el reto es el día lunes (al tener un indice 0 es par)\n",
    "    "
   ]
  },
  {
   "attachments": {},
   "cell_type": "markdown",
   "metadata": {},
   "source": [
    "# 5."
   ]
  },
  {
   "cell_type": "code",
   "execution_count": 6,
   "metadata": {},
   "outputs": [
    {
     "name": "stdout",
     "output_type": "stream",
     "text": [
      "True     0.6\n",
      "False    0.4\n",
      "Name: reto, dtype: float64\n",
      "\n",
      "El tipo de datos es: <class 'pandas.core.series.Series'>\n"
     ]
    }
   ],
   "source": [
    "# Crear a partir del DataFrame una serie con los porcentajes de días que se ha conseguido el reto y los que no\n",
    "porcentajes_reto = df['reto'].value_counts(normalize=True) # normalize True devuelve los porcentajes\n",
    "print(porcentajes_reto)\n",
    "print(f\"\\nEl tipo de datos es: {type(porcentajes_reto)}\")\n"
   ]
  },
  {
   "attachments": {},
   "cell_type": "markdown",
   "metadata": {},
   "source": [
    "# 6."
   ]
  },
  {
   "cell_type": "code",
   "execution_count": 7,
   "metadata": {},
   "outputs": [
    {
     "data": {
      "image/png": "[encoded data removed]",
      "text/plain": [
       "<Figure size 1000x500 with 1 Axes>"
      ]
     },
     "metadata": {},
     "output_type": "display_data"
    }
   ],
   "source": [
    "# muestre la progresión de las calorías y tiempo durante la semana.\n",
    "fix ,ax = plt.subplots(figsize=(10,5))\n",
    "plt.plot(df.index, df['calorias'], marker='+',label='calorias')\n",
    "plt.plot(df.index, df['tiempo'], marker='o',label='tiempo')\n",
    "plt.legend(loc='upper left')\n",
    "plt.title('Evolución diaria')\n",
    "\n",
    "# Añadir leyenda con promedio de calorías y tiempo\n",
    "ax.text(x=1, y=0.98,\n",
    "        transform=ax.transAxes,\n",
    "        s=f\"Calorias Promedio={media_calorias}\\nTiempo Promedio={media_tiempo}\",\n",
    "        color='green',\n",
    "        ha='right',\n",
    "        va='top',\n",
    "        bbox=dict(facecolor='white', alpha=0.5))\n",
    "\n",
    "plt.show()\n"
   ]
  }
 ],
 "metadata": {
  "kernelspec": {
   "display_name": "Python 3",
   "language": "python",
   "name": "python3"
  },
  "language_info": {
   "codemirror_mode": {
    "name": "ipython",
    "version": 3
   },
   "file_extension": ".py",
   "mimetype": "text/x-python",
   "name": "python",
   "nbconvert_exporter": "python",
   "pygments_lexer": "ipython3",
   "version": "3.11.3"
  },
  "orig_nbformat": 4
 },
 "nbformat": 4,
 "nbformat_minor": 2
}
