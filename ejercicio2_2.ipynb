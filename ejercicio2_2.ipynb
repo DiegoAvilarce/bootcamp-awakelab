{
 "cells": [
  {
   "cell_type": "code",
   "execution_count": 1,
   "metadata": {},
   "outputs": [],
   "source": [
    "import numpy as np\n",
    "import pandas as pd"
   ]
  },
  {
   "attachments": {},
   "cell_type": "markdown",
   "metadata": {},
   "source": [
    "# 1."
   ]
  },
  {
   "cell_type": "code",
   "execution_count": 2,
   "metadata": {},
   "outputs": [],
   "source": [
    "# Escribir un programa que pregunte al usuario por las ventas de un \n",
    "# rango de años y muestre por pantalla una serie con los datos de las ventas\n",
    "# indexada por los años, antes y después de aplicarles un descuento del 10%"
   ]
  },
  {
   "cell_type": "code",
   "execution_count": 3,
   "metadata": {},
   "outputs": [
    {
     "data": {
      "text/plain": [
       "[114.0, 118.0, 126.0, 115.0, 129.0, 117.0]"
      ]
     },
     "execution_count": 3,
     "metadata": {},
     "output_type": "execute_result"
    }
   ],
   "source": [
    "inicio = int(input(\"Introduce el año de inicio: \"))\n",
    "fin = int(input(\"Introduce el año de fin: \"))\n",
    "arreglo_años = np.arange(inicio,fin+1)\n",
    "arreglo_venta = []\n",
    "\n",
    "for año in arreglo_años:\n",
    "    venta = float(input(f\"Ingrese la venta del año {año}: \"))\n",
    "    arreglo_venta.append(venta)    \n",
    "arreglo_venta\n"
   ]
  },
  {
   "cell_type": "code",
   "execution_count": 4,
   "metadata": {},
   "outputs": [
    {
     "data": {
      "text/html": [
       "<div>\n",
       "<style scoped>\n",
       "    .dataframe tbody tr th:only-of-type {\n",
       "        vertical-align: middle;\n",
       "    }\n",
       "\n",
       "    .dataframe tbody tr th {\n",
       "        vertical-align: top;\n",
       "    }\n",
       "\n",
       "    .dataframe thead th {\n",
       "        text-align: right;\n",
       "    }\n",
       "</style>\n",
       "<table border=\"1\" class=\"dataframe\">\n",
       "  <thead>\n",
       "    <tr style=\"text-align: right;\">\n",
       "      <th></th>\n",
       "      <th>Venta Original</th>\n",
       "      <th>Venta Descuento</th>\n",
       "    </tr>\n",
       "    <tr>\n",
       "      <th>Año</th>\n",
       "      <th></th>\n",
       "      <th></th>\n",
       "    </tr>\n",
       "  </thead>\n",
       "  <tbody>\n",
       "    <tr>\n",
       "      <th>2018</th>\n",
       "      <td>114.0</td>\n",
       "      <td>102.6</td>\n",
       "    </tr>\n",
       "    <tr>\n",
       "      <th>2019</th>\n",
       "      <td>118.0</td>\n",
       "      <td>106.2</td>\n",
       "    </tr>\n",
       "    <tr>\n",
       "      <th>2020</th>\n",
       "      <td>126.0</td>\n",
       "      <td>113.4</td>\n",
       "    </tr>\n",
       "    <tr>\n",
       "      <th>2021</th>\n",
       "      <td>115.0</td>\n",
       "      <td>103.5</td>\n",
       "    </tr>\n",
       "    <tr>\n",
       "      <th>2022</th>\n",
       "      <td>129.0</td>\n",
       "      <td>116.1</td>\n",
       "    </tr>\n",
       "    <tr>\n",
       "      <th>2023</th>\n",
       "      <td>117.0</td>\n",
       "      <td>105.3</td>\n",
       "    </tr>\n",
       "  </tbody>\n",
       "</table>\n",
       "</div>"
      ],
      "text/plain": [
       "      Venta Original  Venta Descuento\n",
       "Año                                  \n",
       "2018           114.0            102.6\n",
       "2019           118.0            106.2\n",
       "2020           126.0            113.4\n",
       "2021           115.0            103.5\n",
       "2022           129.0            116.1\n",
       "2023           117.0            105.3"
      ]
     },
     "execution_count": 4,
     "metadata": {},
     "output_type": "execute_result"
    }
   ],
   "source": [
    "serie_original = pd.Series(arreglo_venta, index=arreglo_años, name = \"Venta Original\")\n",
    "serie_descuento = pd.Series(arreglo_venta, index=arreglo_años , name= \"Venta Descuento\") * 0.9\n",
    "serie_final = pd.concat([serie_original, serie_descuento], axis=1)\n",
    "serie_final.index.name = \"Año\"\n",
    "serie_final\n"
   ]
  },
  {
   "attachments": {},
   "cell_type": "markdown",
   "metadata": {},
   "source": [
    "# 2."
   ]
  },
  {
   "cell_type": "code",
   "execution_count": 40,
   "metadata": {},
   "outputs": [],
   "source": [
    "# generar un diccionario de notas de alumnos\n",
    "diccionario_notas = {\n",
    "    \"Juan\": 7.5,\n",
    "    \"Ana\": 8.5,\n",
    "    \"Pedro\": 6.5,\n",
    "    \"Luis\": 9.8,\n",
    "    \"Maria\": 8.5,\n",
    "    \"Jose\": 7.5,\n",
    "    \"Rosa\": 6.5,\n",
    "    \"Luisa\": 9.5,\n",
    "    \"Marta\": 8.5,\n",
    "    \"Pablo\": 7.5,\n",
    "    \"Miguel\": 6.1,\n",
    "    \"Sara\": 9.5}"
   ]
  },
  {
   "cell_type": "code",
   "execution_count": 24,
   "metadata": {},
   "outputs": [
    {
     "data": {
      "text/plain": [
       "Minimo                 6.100000\n",
       "Maximo                 9.800000\n",
       "Media                  7.991667\n",
       "Desviacion Estandar    1.202399\n",
       "Name: Estadisticas, dtype: float64"
      ]
     },
     "execution_count": 24,
     "metadata": {},
     "output_type": "execute_result"
    }
   ],
   "source": [
    "def estadisticas_nota(diccionario: dict):\n",
    "\n",
    "    notas = pd.Series(diccionario.values(), index=diccionario.keys(), name=\"Notas\")\n",
    "    notas.index.name=\"Alumno\"\n",
    "    minimo = notas.values.min()\n",
    "    maximo = notas.values.max()\n",
    "    media = notas.values.mean()\n",
    "    desvest = notas.values.std()\n",
    "    serie_estadistia = pd.Series([minimo, maximo, media, desvest], index=[\"Minimo\", \"Maximo\", \"Media\", \"Desviacion Estandar\"], name=\"Estadisticas\")\n",
    "\n",
    "    \n",
    "    return serie_estadistia\n",
    "\n",
    "resultado = estadisticas_nota(diccionario_notas)\n",
    "resultado\n"
   ]
  },
  {
   "attachments": {},
   "cell_type": "markdown",
   "metadata": {},
   "source": [
    "# 3."
   ]
  },
  {
   "cell_type": "code",
   "execution_count": 41,
   "metadata": {},
   "outputs": [
    {
     "name": "stdout",
     "output_type": "stream",
     "text": [
      "Alumnos\n",
      "Luis     9.8\n",
      "Luisa    9.5\n",
      "Sara     9.5\n",
      "Ana      8.5\n",
      "Maria    8.5\n",
      "Marta    8.5\n",
      "Juan     7.5\n",
      "Jose     7.5\n",
      "Pablo    7.5\n",
      "Name: Notas, dtype: float64\n"
     ]
    }
   ],
   "source": [
    "def ordenar_aprobados(diccionario:dict):\n",
    "    notas = pd.Series(diccionario.values(), index=diccionario.keys(), name=\"Notas\")\n",
    "    notas.index.name = \"Alumnos\"\n",
    "    notas_ordenadas = notas.sort_values(ascending=False)\n",
    "    mascara_aprobados = notas_ordenadas >= 7.2\n",
    "    notas_ordenadas_aprobadas = notas_ordenadas[mascara_aprobados]\n",
    "    return notas_ordenadas_aprobadas\n",
    "\n",
    "ranking_aprobados = ordenar_aprobados(diccionario_notas)\n",
    "print(ranking_aprobados)"
   ]
  },
  {
   "attachments": {},
   "cell_type": "markdown",
   "metadata": {},
   "source": [
    "# 4."
   ]
  },
  {
   "cell_type": "code",
   "execution_count": 42,
   "metadata": {},
   "outputs": [
    {
     "data": {
      "text/html": [
       "<div>\n",
       "<style scoped>\n",
       "    .dataframe tbody tr th:only-of-type {\n",
       "        vertical-align: middle;\n",
       "    }\n",
       "\n",
       "    .dataframe tbody tr th {\n",
       "        vertical-align: top;\n",
       "    }\n",
       "\n",
       "    .dataframe thead th {\n",
       "        text-align: right;\n",
       "    }\n",
       "</style>\n",
       "<table border=\"1\" class=\"dataframe\">\n",
       "  <thead>\n",
       "    <tr style=\"text-align: right;\">\n",
       "      <th></th>\n",
       "      <th>Mes</th>\n",
       "      <th>Ventas</th>\n",
       "      <th>Gastos</th>\n",
       "    </tr>\n",
       "  </thead>\n",
       "  <tbody>\n",
       "    <tr>\n",
       "      <th>0</th>\n",
       "      <td>Enero</td>\n",
       "      <td>30500</td>\n",
       "      <td>22000</td>\n",
       "    </tr>\n",
       "    <tr>\n",
       "      <th>1</th>\n",
       "      <td>Febrero</td>\n",
       "      <td>35600</td>\n",
       "      <td>23400</td>\n",
       "    </tr>\n",
       "    <tr>\n",
       "      <th>2</th>\n",
       "      <td>Marzo</td>\n",
       "      <td>28300</td>\n",
       "      <td>18100</td>\n",
       "    </tr>\n",
       "    <tr>\n",
       "      <th>3</th>\n",
       "      <td>Abril</td>\n",
       "      <td>33900</td>\n",
       "      <td>20700</td>\n",
       "    </tr>\n",
       "  </tbody>\n",
       "</table>\n",
       "</div>"
      ],
      "text/plain": [
       "       Mes  Ventas  Gastos\n",
       "0    Enero   30500   22000\n",
       "1  Febrero   35600   23400\n",
       "2    Marzo   28300   18100\n",
       "3    Abril   33900   20700"
      ]
     },
     "execution_count": 42,
     "metadata": {},
     "output_type": "execute_result"
    }
   ],
   "source": [
    "def generador_df():\n",
    "    mes = ['Enero', 'Febrero', 'Marzo', 'Abril']\n",
    "    ventas = [30500, 35600, 28300, 33900]\n",
    "    gastos = [22000, 23400, 18100, 20700]\n",
    "    df_final = pd.DataFrame({'Mes':mes,'Ventas': ventas, 'Gastos': gastos})\n",
    "    return df_final\n",
    "\n",
    "generador_df()"
   ]
  }
 ],
 "metadata": {
  "kernelspec": {
   "display_name": "Python 3",
   "language": "python",
   "name": "python3"
  },
  "language_info": {
   "codemirror_mode": {
    "name": "ipython",
    "version": 3
   },
   "file_extension": ".py",
   "mimetype": "text/x-python",
   "name": "python",
   "nbconvert_exporter": "python",
   "pygments_lexer": "ipython3",
   "version": "3.11.3"
  },
  "orig_nbformat": 4
 },
 "nbformat": 4,
 "nbformat_minor": 2
}
