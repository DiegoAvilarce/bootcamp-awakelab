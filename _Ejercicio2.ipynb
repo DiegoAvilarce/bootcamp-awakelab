{
 "cells": [
  {
   "cell_type": "code",
   "execution_count": 21,
   "id": "5213e9ee",
   "metadata": {},
   "outputs": [
    {
     "name": "stdout",
     "output_type": "stream",
     "text": [
      "Hola Mundo\n"
     ]
    }
   ],
   "source": [
    "cadena1 = 'Hola Mundo'\n",
    "print(cadena1)"
   ]
  },
  {
   "cell_type": "code",
   "execution_count": 141,
   "id": "8585e9a5",
   "metadata": {},
   "outputs": [
    {
     "name": "stdout",
     "output_type": "stream",
     "text": [
      "Ingresa la cantidad de horas trabajadas: s\n",
      "Debes escribir una cantidad de horas correcta.\n",
      "Ingresa la cantidad de horas trabajadas: d\n",
      "Debes escribir una cantidad de horas correcta.\n",
      "Ingresa la cantidad de horas trabajadas: 5\n",
      "Ingresa el pago por hora trabajada: ddd\n",
      "Debes escribir un monto correcto.\n",
      "Ingresa el pago por hora trabajada: 8\n",
      "Tu pago corresponde a 40.0\n"
     ]
    }
   ],
   "source": [
    "while True:\n",
    "    try:\n",
    "        horas_trabajadas = float(input('Ingresa la cantidad de horas trabajadas: '))\n",
    "    except ValueError:\n",
    "        print(\"Debes escribir una cantidad de horas correcta.\")\n",
    "        continue\n",
    "    break\n",
    "while True:\n",
    "    try:\n",
    "        pago_por_hora = float(input('Ingresa el pago por hora trabajada: '))\n",
    "    except ValueError:\n",
    "        print(\"Debes escribir un monto correcto.\")\n",
    "        continue\n",
    "    break\n",
    "print(f\"Tu pago corresponde a {horas_trabajadas*pago_por_hora}\")"
   ]
  },
  {
   "cell_type": "code",
   "execution_count": 42,
   "id": "01738975",
   "metadata": {},
   "outputs": [
    {
     "name": "stdout",
     "output_type": "stream",
     "text": [
      "Ingresa la cantidad de kilos de pan que no son del día: 5\n",
      "El precio habitual por 5.0 kilos de pan es de 6000.0 \n",
      "Con el descuento por no ser pan fresco quedó en 2400.0\n",
      "El costo final es de 3600.0\n"
     ]
    }
   ],
   "source": [
    "precio_habitual = 1200\n",
    "descuento = 0.6\n",
    "while True:\n",
    "    try:\n",
    "        kilos_dia_anterior = float(input('Ingresa la cantidad de kilos de pan que no son del día: '))\n",
    "    except ValueError:\n",
    "        print(\"Debes escribir una cantidad correcta.\")\n",
    "        continue\n",
    "    break\n",
    "print(f\"El precio habitual por {kilos_dia_anterior} kilos de pan es de {precio_habitual*kilos_dia_anterior} \\nCon el descuento por no ser pan fresco quedó en {precio_habitual*kilos_dia_anterior*(1-descuento)}\")\n",
    "print(f\"El costo final es de {precio_habitual*kilos_dia_anterior*(descuento)}\")"
   ]
  },
  {
   "cell_type": "code",
   "execution_count": 45,
   "id": "e18f6232",
   "metadata": {},
   "outputs": [
    {
     "name": "stdout",
     "output_type": "stream",
     "text": [
      "Ingresa el salario: 2500000\n",
      "Tu salario no aumenta y quedará en 2500000.0\n"
     ]
    }
   ],
   "source": [
    "aumento = 0.15\n",
    "while True:\n",
    "    try:\n",
    "        salario = float(input('Ingresa el salario: '))\n",
    "    except ValueError:\n",
    "        print(\"Debes escribir un salario correcto.\")\n",
    "        continue\n",
    "    break\n",
    "if salario < 200000:\n",
    "    print(f\"Tu salario debe aumentar en un {aumento*100}% y quedará en {salario*(1+aumento)}\")\n",
    "else:\n",
    "    print(f\"Tu salario no aumenta y quedará en {salario}\")"
   ]
  },
  {
   "cell_type": "code",
   "execution_count": 51,
   "id": "13dd2ba4",
   "metadata": {},
   "outputs": [
    {
     "name": "stdout",
     "output_type": "stream",
     "text": [
      "Ingresa el capital ingresado: k\n",
      "Debes escribir un capital correcto.\n",
      "Ingresa el capital ingresado: 500\n",
      "Ingresa la cantidad de años de inversión: 5\n",
      "Tu capital de 500.0 invertido durante 5 años a un 86% de interés te genera finalmente 11131.013908799996\n"
     ]
    }
   ],
   "source": [
    "import random\n",
    "interes = random.randint(0,100)\n",
    "while True:\n",
    "    try:\n",
    "        C = float(input('Ingresa el capital: '))\n",
    "    except ValueError:\n",
    "        print(\"Debes escribir un capital correcto.\")\n",
    "        continue\n",
    "    break\n",
    "while True:\n",
    "    try:\n",
    "        M = int(input('Ingresa la cantidad de años de inversión: '))\n",
    "    except ValueError:\n",
    "        print(\"Debes escribir una cantidad entera correcta.\")\n",
    "        continue\n",
    "    break\n",
    "monto_final = C*(1+interes/100)**M\n",
    "print(f\"Tu capital de {C} invertido durante {M} años a un {interes}% de interés te genera finalmente {monto_final}\")"
   ]
  },
  {
   "cell_type": "code",
   "execution_count": 126,
   "id": "f53a64b8",
   "metadata": {},
   "outputs": [
    {
     "name": "stdout",
     "output_type": "stream",
     "text": [
      "Ingresa un número: 7.5\n",
      "El resultado es 75.0\n"
     ]
    }
   ],
   "source": [
    "def num_por_diez():\n",
    "    while True:\n",
    "        try:\n",
    "            numero = float(input('Ingresa un número: '))\n",
    "        except ValueError:\n",
    "            print(\"Debes escribir un número correcto.\")\n",
    "            continue\n",
    "        break\n",
    "    print(f\"El resultado es {numero*10}\")\n",
    "         \n",
    "num_por_diez()"
   ]
  },
  {
   "cell_type": "code",
   "execution_count": 57,
   "id": "12514c9e",
   "metadata": {},
   "outputs": [
    {
     "name": "stdout",
     "output_type": "stream",
     "text": [
      "Ingresa el ancho del rectángulo: 6\n",
      "Ingresa la altura del rectángulo: 5\n",
      "******\n",
      "******\n",
      "******\n",
      "******\n",
      "******\n"
     ]
    }
   ],
   "source": [
    "while True:\n",
    "    try:\n",
    "        ancho = int(input(\"Ingresa el ancho del rectángulo: \"))\n",
    "    except ValueError:\n",
    "        print(\"Debes escribir un entero.\")\n",
    "        continue\n",
    "    break\n",
    "\n",
    "while True:\n",
    "    try:\n",
    "        alto = int(input(\"Ingresa la altura del rectángulo: \"))\n",
    "    except ValueError:\n",
    "        print(\"Debes escribir un entero.\")\n",
    "        continue\n",
    "    break\n",
    "\n",
    "for i in range(alto):\n",
    "    for j in range(ancho):\n",
    "        print(\"*\", end= \"\")\n",
    "    print()"
   ]
  },
  {
   "cell_type": "code",
   "execution_count": 143,
   "id": "af5996ff",
   "metadata": {},
   "outputs": [
    {
     "name": "stdout",
     "output_type": "stream",
     "text": [
      "Ingresa una lista de números separados por coma: [3,5,7,4]\n",
      "La suma es 19 y la multiplicación es 420\n"
     ]
    }
   ],
   "source": [
    "def multip(lista):\n",
    "    mult = 1\n",
    "    for n in lista:\n",
    "        mult *=n\n",
    "    return mult\n",
    "\n",
    "def sumar(lista):\n",
    "    suma = 0\n",
    "    for n in lista:\n",
    "        suma +=n\n",
    "    return suma\n",
    "\n",
    "def ingresar_lista():\n",
    "    while True:\n",
    "        lista = input(\"Ingresa una lista de números separados por coma: \")\n",
    "        try:\n",
    "            lista_evaluada = eval(lista)\n",
    "            if isinstance(lista_evaluada, list) and all(isinstance(num, (int, float)) for num in lista_evaluada):\n",
    "                break\n",
    "            else:\n",
    "                print(\"Debes ingresar una lista solo de números.\")\n",
    "        except Exception:\n",
    "            print(\"Debes ingresar una lista.\")\n",
    "            continue\n",
    "    print(f\"La suma es {sumar(lista_evaluada)} y la multiplicación es {multip(lista_evaluada)}\")\n",
    "    \n",
    "ingresar_lista()"
   ]
  },
  {
   "cell_type": "code",
   "execution_count": 142,
   "id": "3d56321e",
   "metadata": {},
   "outputs": [
    {
     "name": "stdout",
     "output_type": "stream",
     "text": [
      "Ingresa una lista de números separados por coma: isinstance\n",
      "Debes ingresar una lista solo de números.\n",
      "Ingresa una lista de números separados por coma: [2,'q']\n",
      "Debes ingresar una lista solo de números.\n",
      "Ingresa una lista de números separados por coma: hfh\n",
      "Debes ingresar una lista.\n",
      "Ingresa una lista de números separados por coma: [3,5,7,4]\n",
      "La cadena es 3574\n"
     ]
    }
   ],
   "source": [
    "def concatenar_lista():\n",
    "    while True:\n",
    "        lista = input(\"Ingresa una lista de números separados por coma: \")\n",
    "        try:\n",
    "            lista_evaluada = eval(lista)\n",
    "            if isinstance(lista_evaluada, list) and all(isinstance(num, (int, float)) for num in lista_evaluada):\n",
    "                break\n",
    "            else:\n",
    "                print(\"Debes ingresar una lista solo de números.\")\n",
    "        except Exception:\n",
    "            print(\"Debes ingresar una lista.\")\n",
    "            continue\n",
    "    cadena = \"\".join(str(numero) for numero in lista_evaluada)\n",
    "    print(f\"La cadena es {cadena}\")\n",
    "concatenar_lista()"
   ]
  },
  {
   "cell_type": "code",
   "execution_count": null,
   "id": "706637ec",
   "metadata": {},
   "outputs": [],
   "source": []
  }
 ],
 "metadata": {
  "kernelspec": {
   "display_name": "Python 3 (ipykernel)",
   "language": "python",
   "name": "python3"
  },
  "language_info": {
   "codemirror_mode": {
    "name": "ipython",
    "version": 3
   },
   "file_extension": ".py",
   "mimetype": "text/x-python",
   "name": "python",
   "nbconvert_exporter": "python",
   "pygments_lexer": "ipython3",
   "version": "3.10.9"
  }
 },
 "nbformat": 4,
 "nbformat_minor": 5
}
