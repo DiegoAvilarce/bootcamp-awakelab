{
 "cells": [
  {
   "cell_type": "code",
   "execution_count": null,
   "metadata": {},
   "outputs": [],
   "source": [
    "import random\n",
    "import pandas as pd"
   ]
  },
  {
   "attachments": {},
   "cell_type": "markdown",
   "metadata": {},
   "source": [
    "# Caso 1"
   ]
  },
  {
   "cell_type": "code",
   "execution_count": null,
   "metadata": {},
   "outputs": [],
   "source": [
    "# Crear dado trucado\n",
    "def dado_trucado():\n",
    "    salida = [1,2,2,3,3,3,4,4,4,4,5,5,5,5,5,6,6,6,6,6,6]\n",
    "    return random.choice(salida)"
   ]
  },
  {
   "cell_type": "code",
   "execution_count": null,
   "metadata": {},
   "outputs": [],
   "source": [
    "# Probabilidad de sacar 6\n",
    "numero_de_intentos = 1000000\n",
    "numero_deseado = 6\n",
    "tiradas = [dado_trucado() for tirada in range(numero_de_intentos)]\n",
    "probabilidad = len([resultado for resultado in tiradas if resultado == numero_deseado]) / numero_de_intentos\n",
    "print(f'La probabilidad de sacar un {numero_deseado} es {probabilidad}')"
   ]
  },
  {
   "cell_type": "code",
   "execution_count": null,
   "metadata": {},
   "outputs": [],
   "source": [
    "# Probabilidad de sacar numero impar\n",
    "numero_de_intentos = 1000000\n",
    "numero_deseado = [1,3,5]\n",
    "tiradas = [dado_trucado() for tirada in range(numero_de_intentos)]\n",
    "probabilidad = len([resultado for resultado in tiradas if resultado in numero_deseado]) / numero_de_intentos\n",
    "print(f'La probabilidad de sacar un numero impar es {probabilidad}')\n"
   ]
  },
  {
   "attachments": {},
   "cell_type": "markdown",
   "metadata": {},
   "source": [
    "# Caso 2"
   ]
  },
  {
   "cell_type": "code",
   "execution_count": null,
   "metadata": {},
   "outputs": [],
   "source": [
    "# Definir funcion lanzar dado\n",
    "def lanzar_dado():\n",
    "    return random.randint(1,6)"
   ]
  },
  {
   "cell_type": "code",
   "execution_count": null,
   "metadata": {},
   "outputs": [],
   "source": [
    "# Sumar los resultados de dos tiradas y ver la probabilidad de que sea igual a 7\n",
    "numero_de_intentos = 1000000\n",
    "suma_tiradas = [lanzar_dado() + lanzar_dado() for tirada in range(numero_de_intentos)]\n",
    "probabilidad = len([resultado for resultado in suma_tiradas if resultado == 7]) / numero_de_intentos\n",
    "print(f'La probabilidad de sacar 7 en dos tiradas es {probabilidad}')"
   ]
  },
  {
   "cell_type": "code",
   "execution_count": null,
   "metadata": {},
   "outputs": [],
   "source": [
    "# Probabilidad de sacar suma par en la sumatoria de dos tiradas\n",
    "numero_de_intentos = 1000000\n",
    "contador = 0\n",
    "\n",
    "for tirada in range(numero_de_intentos):\n",
    "    lanzamiento_1 = lanzar_dado()\n",
    "    lanzamiento_2 = lanzar_dado()\n",
    "    suma_lanzamientos = lanzamiento_1+lanzamiento_2\n",
    "    if suma_lanzamientos % 2 == 0:\n",
    "        contador +=1\n",
    "\n",
    "probabilidad = contador / numero_de_intentos\n",
    "print(f\"La probabilidad de sacar par en la suma de dos lanzamientos es: {probabilidad}\")\n"
   ]
  },
  {
   "cell_type": "code",
   "execution_count": null,
   "metadata": {},
   "outputs": [],
   "source": [
    "# Probabilidad de sacar multiplos de 3 en la sumatoria de dos tiradas\n",
    "numero_de_intentos = 1000000\n",
    "contador = 0\n",
    "\n",
    "for tirada in range(numero_de_intentos):\n",
    "    lanzamiento_1 = lanzar_dado()\n",
    "    lanzamiento_2 = lanzar_dado()\n",
    "    suma_lanzamientos = lanzamiento_1+lanzamiento_2\n",
    "    if suma_lanzamientos in [3,6,9,12]:\n",
    "        contador +=1\n",
    "\n",
    "probabilidad = contador / numero_de_intentos\n",
    "print(f\"La probabilidad de sacar sumatorias multiplos de 3 con dos lanzamientos es: {probabilidad}\")"
   ]
  },
  {
   "attachments": {},
   "cell_type": "markdown",
   "metadata": {},
   "source": [
    "# Caso 3"
   ]
  },
  {
   "cell_type": "code",
   "execution_count": 57,
   "metadata": {},
   "outputs": [],
   "source": [
    "def lanzar_moneda():\n",
    "    lista = ['cara','cruz']\n",
    "    return random.choice(lista)"
   ]
  },
  {
   "cell_type": "code",
   "execution_count": 58,
   "metadata": {},
   "outputs": [
    {
     "name": "stdout",
     "output_type": "stream",
     "text": [
      "La probabilidad de sacar dos caras y una cruz es: 0.375034\n"
     ]
    }
   ],
   "source": [
    "numero_de_intentos = 1_000_000\n",
    "contador = 0\n",
    "\n",
    "for intento in range(numero_de_intentos):\n",
    "    lanzamiento_1 = lanzar_moneda()\n",
    "    lanzamiento_2 = lanzar_moneda()\n",
    "    lanzamiento_3 = lanzar_moneda()\n",
    "    resultado = lanzamiento_1 + lanzamiento_2 + lanzamiento_3\n",
    "    if resultado.count('cara') == 2 and resultado.count('cruz') == 1:\n",
    "        contador += 1\n",
    "\n",
    "\n",
    "probabilidad = contador / numero_de_intentos\n",
    "\n",
    "print(f\"La probabilidad de sacar dos caras y una cruz es: {probabilidad}\")\n",
    "        "
   ]
  },
  {
   "cell_type": "code",
   "execution_count": null,
   "metadata": {},
   "outputs": [],
   "source": [
    "lanzamiento_1 = lanzar_moneda()\n",
    "lanzamiento_2 = lanzar_moneda()\n",
    "lanzamiento_3 = lanzar_moneda()\n",
    "resultado = lanzamiento_1 + lanzamiento_2 + lanzamiento_3\n",
    "print(resultado)\n",
    "print(resultado.count('cara'))"
   ]
  }
 ],
 "metadata": {
  "kernelspec": {
   "display_name": "Python 3",
   "language": "python",
   "name": "python3"
  },
  "language_info": {
   "codemirror_mode": {
    "name": "ipython",
    "version": 3
   },
   "file_extension": ".py",
   "mimetype": "text/x-python",
   "name": "python",
   "nbconvert_exporter": "python",
   "pygments_lexer": "ipython3",
   "version": "3.11.3"
  },
  "orig_nbformat": 4
 },
 "nbformat": 4,
 "nbformat_minor": 2
}
