{
 "cells": [
  {
   "cell_type": "code",
   "execution_count": 1,
   "metadata": {},
   "outputs": [],
   "source": [
    "import pandas as pd\n",
    "import numpy as np"
   ]
  },
  {
   "attachments": {},
   "cell_type": "markdown",
   "metadata": {},
   "source": [
    "# 1) Tabla BINGO"
   ]
  },
  {
   "cell_type": "code",
   "execution_count": 30,
   "metadata": {},
   "outputs": [
    {
     "data": {
      "text/html": [
       "<style type=\"text/css\">\n",
       "</style>\n",
       "<table id=\"T_449b4\">\n",
       "  <thead>\n",
       "    <tr>\n",
       "      <th id=\"T_449b4_level0_col0\" class=\"col_heading level0 col0\" >B</th>\n",
       "      <th id=\"T_449b4_level0_col1\" class=\"col_heading level0 col1\" >I</th>\n",
       "      <th id=\"T_449b4_level0_col2\" class=\"col_heading level0 col2\" >N</th>\n",
       "      <th id=\"T_449b4_level0_col3\" class=\"col_heading level0 col3\" >G</th>\n",
       "      <th id=\"T_449b4_level0_col4\" class=\"col_heading level0 col4\" >O</th>\n",
       "    </tr>\n",
       "  </thead>\n",
       "  <tbody>\n",
       "    <tr>\n",
       "      <td id=\"T_449b4_row0_col0\" class=\"data row0 col0\" >14</td>\n",
       "      <td id=\"T_449b4_row0_col1\" class=\"data row0 col1\" >19</td>\n",
       "      <td id=\"T_449b4_row0_col2\" class=\"data row0 col2\" >31</td>\n",
       "      <td id=\"T_449b4_row0_col3\" class=\"data row0 col3\" >52</td>\n",
       "      <td id=\"T_449b4_row0_col4\" class=\"data row0 col4\" >73</td>\n",
       "    </tr>\n",
       "    <tr>\n",
       "      <td id=\"T_449b4_row1_col0\" class=\"data row1 col0\" >5</td>\n",
       "      <td id=\"T_449b4_row1_col1\" class=\"data row1 col1\" >22</td>\n",
       "      <td id=\"T_449b4_row1_col2\" class=\"data row1 col2\" >34</td>\n",
       "      <td id=\"T_449b4_row1_col3\" class=\"data row1 col3\" >54</td>\n",
       "      <td id=\"T_449b4_row1_col4\" class=\"data row1 col4\" >64</td>\n",
       "    </tr>\n",
       "    <tr>\n",
       "      <td id=\"T_449b4_row2_col0\" class=\"data row2 col0\" >11</td>\n",
       "      <td id=\"T_449b4_row2_col1\" class=\"data row2 col1\" >23</td>\n",
       "      <td id=\"T_449b4_row2_col2\" class=\"data row2 col2\" >libre</td>\n",
       "      <td id=\"T_449b4_row2_col3\" class=\"data row2 col3\" >57</td>\n",
       "      <td id=\"T_449b4_row2_col4\" class=\"data row2 col4\" >62</td>\n",
       "    </tr>\n",
       "    <tr>\n",
       "      <td id=\"T_449b4_row3_col0\" class=\"data row3 col0\" >13</td>\n",
       "      <td id=\"T_449b4_row3_col1\" class=\"data row3 col1\" >28</td>\n",
       "      <td id=\"T_449b4_row3_col2\" class=\"data row3 col2\" >39</td>\n",
       "      <td id=\"T_449b4_row3_col3\" class=\"data row3 col3\" >51</td>\n",
       "      <td id=\"T_449b4_row3_col4\" class=\"data row3 col4\" >66</td>\n",
       "    </tr>\n",
       "    <tr>\n",
       "      <td id=\"T_449b4_row4_col0\" class=\"data row4 col0\" >1</td>\n",
       "      <td id=\"T_449b4_row4_col1\" class=\"data row4 col1\" >29</td>\n",
       "      <td id=\"T_449b4_row4_col2\" class=\"data row4 col2\" >41</td>\n",
       "      <td id=\"T_449b4_row4_col3\" class=\"data row4 col3\" >56</td>\n",
       "      <td id=\"T_449b4_row4_col4\" class=\"data row4 col4\" >72</td>\n",
       "    </tr>\n",
       "  </tbody>\n",
       "</table>\n"
      ],
      "text/plain": [
       "<pandas.io.formats.style.Styler at 0x1e070132510>"
      ]
     },
     "execution_count": 30,
     "metadata": {},
     "output_type": "execute_result"
    }
   ],
   "source": [
    "titulo = 'BINGO'\n",
    "num_inicio = 1\n",
    "num_final = 15\n",
    "largo = len(titulo)\n",
    "df_bingo = pd.DataFrame()\n",
    "for i in range(largo):\n",
    "    # permutation[:5] permite seleccionar aleatoriamente 5 numeros del rango, randint no sirve porque se podrian repetir\n",
    "    arreglo = np.random.permutation(np.arange(num_inicio, num_final))[:5] \n",
    "    num_inicio += 15\n",
    "    num_final += 15\n",
    "    df_bingo[titulo[i]] = arreglo\n",
    "\n",
    "df_bingo.iloc[2, 2] = 'libre'\n",
    "df_final = df_bingo.style.hide() # ocultar el indice del dataframe\n",
    "df_final\n",
    "\n",
    "\n"
   ]
  },
  {
   "cell_type": "code",
   "execution_count": null,
   "metadata": {},
   "outputs": [],
   "source": []
  }
 ],
 "metadata": {
  "kernelspec": {
   "display_name": "Python 3",
   "language": "python",
   "name": "python3"
  },
  "language_info": {
   "codemirror_mode": {
    "name": "ipython",
    "version": 3
   },
   "file_extension": ".py",
   "mimetype": "text/x-python",
   "name": "python",
   "nbconvert_exporter": "python",
   "pygments_lexer": "ipython3",
   "version": "3.11.3"
  },
  "orig_nbformat": 4
 },
 "nbformat": 4,
 "nbformat_minor": 2
}
