{
 "cells": [
  {
   "cell_type": "code",
   "execution_count": 1,
   "metadata": {},
   "outputs": [],
   "source": [
    "#  importar librerias para el analisis de datos\n",
    "import numpy as np"
   ]
  },
  {
   "cell_type": "code",
   "execution_count": 68,
   "metadata": {},
   "outputs": [
    {
     "name": "stdout",
     "output_type": "stream",
     "text": [
      "[5 2 6 8 8 2 6 5 3 1 1 3 5 5 3]\n"
     ]
    }
   ],
   "source": [
    "#\n",
    "def teclanum(pauta):\n",
    "    teclas = 'C#D#EF#G#A#B'\n",
    "    arreglo_equivalente = np.arange(1, 13)\n",
    "    letras = len(pauta)\n",
    "    secuencia_resultado = np.zeros(letras, dtype=int)\n",
    "    i = 0\n",
    "    while i < letras:\n",
    "        letra = pauta[i]\n",
    "        letra_siguiente = pauta[i + 1]\n",
    "        posicion_en_teclas = teclas.index(letra)\n",
    "        posicion_en_arreglo = arreglo_equivalente[posicion_en_teclas]\n",
    "\n",
    "        secuencia_resultado[i] = posicion_en_arreglo\n",
    "        i += 1\n",
    "    return secuencia_resultado\n",
    "\n",
    "t = teclanum('E#FGG#FEDCCDEED')\n",
    "\n",
    "print(t)\n"
   ]
  },
  {
   "cell_type": "code",
   "execution_count": null,
   "metadata": {},
   "outputs": [],
   "source": []
  }
 ],
 "metadata": {
  "kernelspec": {
   "display_name": "Python 3",
   "language": "python",
   "name": "python3"
  },
  "language_info": {
   "codemirror_mode": {
    "name": "ipython",
    "version": 3
   },
   "file_extension": ".py",
   "mimetype": "text/x-python",
   "name": "python",
   "nbconvert_exporter": "python",
   "pygments_lexer": "ipython3",
   "version": "3.11.3"
  },
  "orig_nbformat": 4
 },
 "nbformat": 4,
 "nbformat_minor": 2
}
