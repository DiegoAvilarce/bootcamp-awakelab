{
 "cells": [
  {
   "cell_type": "code",
   "execution_count": 1,
   "metadata": {},
   "outputs": [],
   "source": [
    "import numpy as np # importar libreria para manejar los arreglos\n",
    "import re # importar libreria para manejar expresiones regulares"
   ]
  },
  {
   "cell_type": "code",
   "execution_count": 2,
   "metadata": {},
   "outputs": [],
   "source": [
    "# definir funcion para convertir la pauta en numeros\n",
    "\n",
    "def teclanum(pauta):\n",
    "    teclas = 'C#D#EF#G#A#B'\n",
    "    arreglo_equivalente = np.arange(1, 13) # arreglo con la posicion de cada tecla\n",
    "    largo = len(pauta)\n",
    "    secuencia_resultado = np.zeros(largo, dtype=int) # arreglo para cargar la secuencia de conversion a numeros\n",
    "    secuencia_correcion = np.array([],dtype=int) # arreglo para corregir la secuencia de 0\n",
    "    \n",
    "    for posicion in range(largo):\n",
    "        letra_pauta = pauta[posicion] # letra de la pauta dada la posicion\n",
    "        posicion_tecla = teclas.index(letra_pauta) # conversion de la letra a numero\n",
    "        #print(f\"la posicion {posicion} de la pauta contiene la letra {letra_pauta} y su conversion a tecla es {posicion_tecla}\")\n",
    "        if letra_pauta == '#':\n",
    "            secuencia_resultado[posicion-1] = secuencia_resultado[posicion-1]+1\n",
    "        else:\n",
    "            secuencia_resultado[posicion] = arreglo_equivalente[posicion_tecla] \n",
    "\n",
    "    # una vez salido del ciclo for anterior se procede a revisar cada elemento de la secuencia resultado y corregir los 0\n",
    "    for posicion in range(largo):\n",
    "        if secuencia_resultado[posicion] != 0: # si encuentra un valor no 0 lo concatena al arreglo de correccion\n",
    "            secuencia_correcion = np.concatenate((secuencia_correcion,[secuencia_resultado[posicion]]))       \n",
    "\n",
    "    return secuencia_resultado , secuencia_correcion"
   ]
  },
  {
   "cell_type": "code",
   "execution_count": 6,
   "metadata": {},
   "outputs": [
    {
     "name": "stdout",
     "output_type": "stream",
     "text": [
      "La pauta 'E#FGG#FE#DCCDEED' convertida a cifrado musical americano seria: [6 6 8 9 6 6 3 1 1 3 5 5 3]\n"
     ]
    }
   ],
   "source": [
    "# try-except para validad que los caracteres ingresados existan en el cifrado musical americano y que no se ingresen dos # seguidas\n",
    "try:\n",
    "   pauta = input(\"Ingrese la pauta de notas: \").upper()\n",
    "   for caracter in pauta:\n",
    "      if re.search(r'##', pauta):\n",
    "         raise ValueError(\"No se puede ingresar dos # seguidas.\")\n",
    "      if caracter not in ('C#D#EF#G#A#B'):\n",
    "         raise ValueError(\"Debes ingresar una pauta válida.\")\n",
    "   x,y = teclanum(pauta)   \n",
    "   print(f\"La pauta '{pauta}' convertida a cifrado musical americano seria: {y}\")\n",
    "except ValueError as e:\n",
    "   print(e)"
   ]
  },
  {
   "cell_type": "code",
   "execution_count": null,
   "metadata": {},
   "outputs": [],
   "source": []
  }
 ],
 "metadata": {
  "kernelspec": {
   "display_name": "Python 3",
   "language": "python",
   "name": "python3"
  },
  "language_info": {
   "codemirror_mode": {
    "name": "ipython",
    "version": 3
   },
   "file_extension": ".py",
   "mimetype": "text/x-python",
   "name": "python",
   "nbconvert_exporter": "python",
   "pygments_lexer": "ipython3",
   "version": "3.11.3"
  },
  "orig_nbformat": 4
 },
 "nbformat": 4,
 "nbformat_minor": 2
}
