{
 "cells": [
  {
   "cell_type": "code",
   "execution_count": 1,
   "metadata": {},
   "outputs": [],
   "source": [
    "import pandas as pd"
   ]
  },
  {
   "cell_type": "code",
   "execution_count": 27,
   "metadata": {},
   "outputs": [
    {
     "name": "stdout",
     "output_type": "stream",
     "text": [
      "\"Nombre,AÃƒÂ±o,Consola,Calificacion,Tags(separados por \",),,,\n",
      "\n"
     ]
    },
    {
     "data": {
      "text/plain": [
       "['\"Nombre,AÃƒÂ±o,Consola,Calificacion,Tags(separados por \",),,,\\n',\n",
       " '\"The Legend of Zelda,86,Famicom,Disk System,3.5,RPG\",Link,Zelda,Hyrule,Triforce\\n',\n",
       " '\"Double Dragon,87,Arcade,3.7,Beat-\\'em up\",Billy,Jimmy,PuÃƒÂ±ete,\\n',\n",
       " '\"The Legend of Zelda,88,NES,4.3,RPG\",Link,Zelda,Hyrule,Triforce\\n',\n",
       " '\"Halo 5: Guardians,15,Xbox One,4,FPS\",Master Chief,Cortana,Covenant,\\n',\n",
       " '\"Curse of Ra,82,Commodore PET,3,RPG\",adventure,Temple,Apshai,\\n',\n",
       " '\"Battlefield 1,16,Xbox One,4.8,FPS\",WWI,,,']"
      ]
     },
     "execution_count": 27,
     "metadata": {},
     "output_type": "execute_result"
    }
   ],
   "source": [
    "with open('videojuegos2.csv', 'r') as archivo:\n",
    "    lineas = archivo.readlines()\n",
    "    print(lineas[0])\n",
    "\n",
    "lineas"
   ]
  },
  {
   "cell_type": "code",
   "execution_count": 28,
   "metadata": {},
   "outputs": [
    {
     "name": "stdout",
     "output_type": "stream",
     "text": [
      "['', 'Nombre,AÃƒÂ±o,Consola,Calificacion,Tags(separados por ', ',),,,\\n']\n",
      "['', 'The Legend of Zelda,86,Famicom,Disk System,3.5,RPG', ',Link,Zelda,Hyrule,Triforce\\n']\n",
      "['', \"Double Dragon,87,Arcade,3.7,Beat-'em up\", ',Billy,Jimmy,PuÃƒÂ±ete,\\n']\n",
      "['', 'The Legend of Zelda,88,NES,4.3,RPG', ',Link,Zelda,Hyrule,Triforce\\n']\n",
      "['', 'Halo 5: Guardians,15,Xbox One,4,FPS', ',Master Chief,Cortana,Covenant,\\n']\n",
      "['', 'Curse of Ra,82,Commodore PET,3,RPG', ',adventure,Temple,Apshai,\\n']\n",
      "['', 'Battlefield 1,16,Xbox One,4.8,FPS', ',WWI,,,']\n"
     ]
    }
   ],
   "source": [
    "for linea in lineas:\n",
    "    print(linea.split('\"'))"
   ]
  },
  {
   "attachments": {},
   "cell_type": "markdown",
   "metadata": {},
   "source": [
    "# el ultimo elemento son los tags "
   ]
  },
  {
   "cell_type": "code",
   "execution_count": 16,
   "metadata": {},
   "outputs": [
    {
     "data": {
      "text/plain": [
       "[',),,,\\n',\n",
       " ',Link,Zelda,Hyrule,Triforce\\n',\n",
       " ',Billy,Jimmy,PuÃƒÂ±ete,\\n',\n",
       " ',Link,Zelda,Hyrule,Triforce\\n',\n",
       " ',Master Chief,Cortana,Covenant,\\n',\n",
       " ',adventure,Temple,Apshai,\\n',\n",
       " ',WWI,,,']"
      ]
     },
     "execution_count": 16,
     "metadata": {},
     "output_type": "execute_result"
    }
   ],
   "source": [
    "tags = []\n",
    "for linea in lineas:\n",
    "    tags.append(linea.split('\"')[-1])\n",
    "tags"
   ]
  },
  {
   "cell_type": "code",
   "execution_count": 29,
   "metadata": {},
   "outputs": [
    {
     "data": {
      "text/plain": [
       "['Tags',\n",
       " 'Link,Zelda,Hyrule,Triforce',\n",
       " 'Billy,Jimmy,PuÃƒÂ±ete',\n",
       " 'Link,Zelda,Hyrule,Triforce',\n",
       " 'Master Chief,Cortana,Covenant',\n",
       " 'adventure,Temple,Apshai',\n",
       " 'WWI']"
      ]
     },
     "execution_count": 29,
     "metadata": {},
     "output_type": "execute_result"
    }
   ],
   "source": [
    "tags = [tag.strip(',') for tag in tags]\n",
    "tags = [tag.strip('\\n') for tag in tags]\n",
    "tags[0] = 'Tags'\n",
    "tags"
   ]
  },
  {
   "cell_type": "code",
   "execution_count": 31,
   "metadata": {},
   "outputs": [
    {
     "data": {
      "text/plain": [
       "['Nombre,AÃƒÂ±o,Consola,Calificacion,Tags(separados por ',\n",
       " 'The Legend of Zelda,86,Famicom,Disk System,3.5,RPG',\n",
       " \"Double Dragon,87,Arcade,3.7,Beat-'em up\",\n",
       " 'The Legend of Zelda,88,NES,4.3,RPG',\n",
       " 'Halo 5: Guardians,15,Xbox One,4,FPS',\n",
       " 'Curse of Ra,82,Commodore PET,3,RPG',\n",
       " 'Battlefield 1,16,Xbox One,4.8,FPS']"
      ]
     },
     "execution_count": 31,
     "metadata": {},
     "output_type": "execute_result"
    }
   ],
   "source": [
    "columnas = []\n",
    "\n",
    "for linea in lineas:\n",
    "    columna = linea.split('\"')[1]\n",
    "    columnas.append(columna.strip(','))\n",
    "columnas"
   ]
  },
  {
   "cell_type": "code",
   "execution_count": 35,
   "metadata": {},
   "outputs": [
    {
     "name": "stdout",
     "output_type": "stream",
     "text": [
      "62\n",
      "80\n",
      "65\n",
      "64\n",
      "69\n",
      "62\n",
      "42\n"
     ]
    }
   ],
   "source": [
    "for linea in lineas:\n",
    "    print(len(linea))"
   ]
  },
  {
   "cell_type": "code",
   "execution_count": null,
   "metadata": {},
   "outputs": [],
   "source": []
  }
 ],
 "metadata": {
  "kernelspec": {
   "display_name": "Python 3",
   "language": "python",
   "name": "python3"
  },
  "language_info": {
   "codemirror_mode": {
    "name": "ipython",
    "version": 3
   },
   "file_extension": ".py",
   "mimetype": "text/x-python",
   "name": "python",
   "nbconvert_exporter": "python",
   "pygments_lexer": "ipython3",
   "version": "3.11.3"
  },
  "orig_nbformat": 4
 },
 "nbformat": 4,
 "nbformat_minor": 2
}
